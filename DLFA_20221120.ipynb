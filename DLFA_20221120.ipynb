{
  "nbformat": 4,
  "nbformat_minor": 0,
  "metadata": {
    "colab": {
      "private_outputs": true,
      "provenance": [],
      "include_colab_link": true
    },
    "kernelspec": {
      "name": "python3",
      "display_name": "Python 3"
    },
    "language_info": {
      "name": "python"
    }
  },
  "cells": [
    {
      "cell_type": "markdown",
      "metadata": {
        "id": "view-in-github",
        "colab_type": "text"
      },
      "source": [
        "<a href=\"https://colab.research.google.com/github/rohanhg91/DLFA_Repository/blob/main/DLFA_20221120.ipynb\" target=\"_parent\"><img src=\"https://colab.research.google.com/assets/colab-badge.svg\" alt=\"Open In Colab\"/></a>"
      ]
    },
    {
      "cell_type": "markdown",
      "source": [
        "# HOFs, OOPS"
      ],
      "metadata": {
        "id": "InlxbN5VFOSU"
      }
    },
    {
      "cell_type": "code",
      "source": [
        "def potter(n: int) -> bool:\n",
        "    r = 0\n",
        "    while r * r < n:\n",
        "        r += 1\n",
        "    return r * r == n"
      ],
      "metadata": {
        "id": "6J1n4WoJFaU3"
      },
      "execution_count": null,
      "outputs": []
    },
    {
      "cell_type": "code",
      "source": [
        "f = potter"
      ],
      "metadata": {
        "id": "ZvaZozw0F4OA"
      },
      "execution_count": null,
      "outputs": []
    },
    {
      "cell_type": "code",
      "source": [
        "f(16)"
      ],
      "metadata": {
        "id": "vvZOthReF9ZT"
      },
      "execution_count": null,
      "outputs": []
    },
    {
      "cell_type": "code",
      "source": [
        "def is_perfect_square(n: int) -> bool:\n",
        "    r = 0\n",
        "    while r * r < n:\n",
        "        r += 1\n",
        "    return r * r == n"
      ],
      "metadata": {
        "id": "oKBI2LN8F_Q9"
      },
      "execution_count": null,
      "outputs": []
    },
    {
      "cell_type": "code",
      "source": [
        "def is_perfect_cube(n: int) -> bool:\n",
        "    r = 0\n",
        "    while r * r * r < n:\n",
        "        r += 1\n",
        "    return r * r * r == n"
      ],
      "metadata": {
        "id": "ndxLvzVnGtKu"
      },
      "execution_count": null,
      "outputs": []
    },
    {
      "cell_type": "code",
      "source": [
        "def is_power_of2(n: int) -> bool:\n",
        "    r = 0\n",
        "    while 2 ** r < n:\n",
        "        r += 1\n",
        "    return 2 ** r == n"
      ],
      "metadata": {
        "id": "FTVL7gNqG0dO"
      },
      "execution_count": null,
      "outputs": []
    },
    {
      "cell_type": "code",
      "source": [
        "def square(n: int) -> int:\n",
        "    return n * n"
      ],
      "metadata": {
        "id": "BBWEjXfzIGGR"
      },
      "execution_count": null,
      "outputs": []
    },
    {
      "cell_type": "markdown",
      "source": [
        "$a > b ⇒ f(a) > f(b)$"
      ],
      "metadata": {
        "id": "FrIr0qw9IUbs"
      }
    },
    {
      "cell_type": "code",
      "source": [
        "def cube(n: int) -> int:\n",
        "    return n * n * n\n",
        "def p2(n: int) -> int:\n",
        "    return 2 ** n"
      ],
      "metadata": {
        "id": "XVDmYNpqIg-b"
      },
      "execution_count": null,
      "outputs": []
    },
    {
      "cell_type": "code",
      "source": [
        "def is_it(func, n: int) -> bool:\n",
        "    r = 0\n",
        "    while func(r) < n:\n",
        "        r += 1\n",
        "    return func(r) == n"
      ],
      "metadata": {
        "id": "fs9jVIX5I51B"
      },
      "execution_count": null,
      "outputs": []
    },
    {
      "cell_type": "code",
      "source": [
        "is_it(cube, 27)"
      ],
      "metadata": {
        "id": "ERNhoQx5JKg7"
      },
      "execution_count": null,
      "outputs": []
    },
    {
      "cell_type": "markdown",
      "source": [
        "# Odometer\n",
        "\n",
        "1. The reading cannot have a zero int\n",
        "\n",
        "2. The digits in the reading must be in STRICT ascending order"
      ],
      "metadata": {
        "id": "v7vFtd4HLbdx"
      }
    },
    {
      "cell_type": "markdown",
      "source": [
        "3-digit Odometer\n",
        "\n",
        "smallest reading: 123\n",
        "\n",
        "largest reading: 789\n",
        "\n",
        "678 -> 679 -> 689 -> 789 -> 123\n",
        "\n",
        "\n",
        "127 -> 128 -> 129 -> 134 -> 135 -> 136 -> 137 -> 138 -> 139 -> 145\n",
        "\n",
        "478 -> 479 -> 489 -> 567"
      ],
      "metadata": {
        "id": "-AHutLUDLhmK"
      }
    },
    {
      "cell_type": "code",
      "source": [
        "def last_digit(n: int) -> int:\n",
        "    return n % 10\n",
        "\n",
        "def is_ascending1(n: int) -> bool:\n",
        "    if n < 10:\n",
        "        return True\n",
        "    if last_digit(n) <= last_digit(n // 10):\n",
        "        return False\n",
        "    return is_ascending1(n // 10)"
      ],
      "metadata": {
        "id": "jHdrAm-gRzmm"
      },
      "execution_count": null,
      "outputs": []
    },
    {
      "cell_type": "code",
      "source": [
        "def is_ascending2(n: int) -> bool:\n",
        "    sn = str(n)\n",
        "    return all(x < y for x, y in zip(sn, sn[1:]))"
      ],
      "metadata": {
        "id": "dIsREMeKSaEG"
      },
      "execution_count": null,
      "outputs": []
    },
    {
      "cell_type": "code",
      "source": [
        "!python --version"
      ],
      "metadata": {
        "id": "G3UyeDElTnT7"
      },
      "execution_count": null,
      "outputs": []
    },
    {
      "cell_type": "code",
      "source": [
        "a = [1, 2, 4]\n",
        "b = [8, 6, -2]\n",
        "print(list(zip(a, b)))"
      ],
      "metadata": {
        "id": "OlSPyK8FUOEp"
      },
      "execution_count": null,
      "outputs": []
    },
    {
      "cell_type": "code",
      "source": [
        "c = \"xyz\"\n",
        "print(list(zip(a, b, c)))"
      ],
      "metadata": {
        "id": "MuNHJXC7Uw2M"
      },
      "execution_count": null,
      "outputs": []
    },
    {
      "cell_type": "code",
      "source": [
        "print(list(zip(\"1729\", \"1729\"[1:])))"
      ],
      "metadata": {
        "id": "un99JkxUVX68"
      },
      "execution_count": null,
      "outputs": []
    },
    {
      "cell_type": "code",
      "source": [
        "print([a < b for a, b in zip(\"1729\", \"1729\"[1:])])"
      ],
      "metadata": {
        "id": "lyGDhIsFV4H5"
      },
      "execution_count": null,
      "outputs": []
    },
    {
      "cell_type": "code",
      "source": [
        "def get_limits(reading: int) -> int:\n",
        "    DIGITS = \"123456789\"\n",
        "    size = len(str(reading))\n",
        "    return int(DIGITS[:size]), int(DIGITS[-size:])"
      ],
      "metadata": {
        "id": "ccib5xXiWiNB"
      },
      "execution_count": null,
      "outputs": []
    },
    {
      "cell_type": "code",
      "source": [
        "get_limits(348)"
      ],
      "metadata": {
        "id": "YmS1J3utW7tA"
      },
      "execution_count": null,
      "outputs": []
    },
    {
      "cell_type": "code",
      "source": [
        "is_ascending = is_ascending2"
      ],
      "metadata": {
        "id": "rmsGZTpOXq2o"
      },
      "execution_count": null,
      "outputs": []
    },
    {
      "cell_type": "code",
      "source": [
        "def next_reading(reading: int) -> int:\n",
        "    START, LIMIT = get_limits(reading)\n",
        "    if reading == LIMIT:\n",
        "        return START\n",
        "    reading += 1\n",
        "    while not is_ascending(reading):\n",
        "        reading += 1\n",
        "    return reading"
      ],
      "metadata": {
        "id": "Prgm_Sn_XR3c"
      },
      "execution_count": null,
      "outputs": []
    },
    {
      "cell_type": "code",
      "source": [
        "def prev_reading(reading: int) -> int:\n",
        "    START, LIMIT = get_limits(reading)\n",
        "    if reading == START:\n",
        "        return LIMIT\n",
        "    reading -= 1\n",
        "    while not is_ascending(reading):\n",
        "        reading -= 1\n",
        "    return reading"
      ],
      "metadata": {
        "id": "1HAHOfE9X6em"
      },
      "execution_count": null,
      "outputs": []
    },
    {
      "cell_type": "code",
      "source": [
        "def distance(a_reading: int, b_reading: int) -> int:\n",
        "    if len(str(a_reading)) != len(str(b_reading)):\n",
        "        return -1\n",
        "    dist = 0\n",
        "    while a_reading != b_reading:\n",
        "        dist += 1\n",
        "        a_reading = next_reading(a_reading)\n",
        "    return dist"
      ],
      "metadata": {
        "id": "YD28eTrrYOI7"
      },
      "execution_count": null,
      "outputs": []
    },
    {
      "cell_type": "code",
      "source": [
        "def next_kth_reading(reading: int, k: int) -> int:\n",
        "    for _ in range(k):\n",
        "        reading = next_reading(reading)\n",
        "    return reading"
      ],
      "metadata": {
        "id": "14sdoSmYadgG"
      },
      "execution_count": null,
      "outputs": []
    },
    {
      "cell_type": "markdown",
      "source": [
        "# Default parameters"
      ],
      "metadata": {
        "id": "8Lc5OnU1a276"
      }
    },
    {
      "cell_type": "code",
      "source": [
        "def nextreading(reading: int, steps:int = 1) -> int:\n",
        "    START, LIMIT = get_limits(reading)\n",
        "    for _ in range(steps):\n",
        "        if reading == LIMIT:\n",
        "            reading = START\n",
        "        else:\n",
        "            reading += 1\n",
        "            while not is_ascending(reading):\n",
        "                reading += 1\n",
        "    return reading"
      ],
      "metadata": {
        "id": "egsuFV-jaw_N"
      },
      "execution_count": null,
      "outputs": []
    },
    {
      "cell_type": "code",
      "source": [
        "nextreading(129, 4)"
      ],
      "metadata": {
        "id": "KRJtkNSYcSHB"
      },
      "execution_count": null,
      "outputs": []
    },
    {
      "cell_type": "code",
      "source": [
        "nextreading(129)"
      ],
      "metadata": {
        "id": "FLdaq6vYcXAR"
      },
      "execution_count": null,
      "outputs": []
    },
    {
      "cell_type": "code",
      "source": [
        "nextreading(129, -2)"
      ],
      "metadata": {
        "id": "3t3oRhtWc_nN"
      },
      "execution_count": null,
      "outputs": []
    },
    {
      "cell_type": "code",
      "source": [
        "class Odometer:\n",
        "    def __init__(self, size: int):\n",
        "        self.SIZE = size\n",
        "        self.START = int(\"123456789\"[:size])\n",
        "        self.LIMIT = int(\"123456789\"[-size:])\n",
        "        self.reading = self.START"
      ],
      "metadata": {
        "id": "fwGoItL0juu2"
      },
      "execution_count": null,
      "outputs": []
    },
    {
      "cell_type": "code",
      "source": [
        "p = Odometer(4)"
      ],
      "metadata": {
        "id": "zEUAL_pHlaD6"
      },
      "execution_count": null,
      "outputs": []
    },
    {
      "cell_type": "code",
      "source": [
        "print(p.reading)"
      ],
      "metadata": {
        "id": "XCQfx4AJljJq"
      },
      "execution_count": null,
      "outputs": []
    },
    {
      "cell_type": "code",
      "source": [
        "print(p.SIZE, p.START, p.LIMIT)"
      ],
      "metadata": {
        "id": "RT5hf6YWlpyc"
      },
      "execution_count": null,
      "outputs": []
    },
    {
      "cell_type": "code",
      "source": [
        "print(p)"
      ],
      "metadata": {
        "id": "RfdgHYx0lz1Z"
      },
      "execution_count": null,
      "outputs": []
    },
    {
      "cell_type": "code",
      "source": [
        "class Odometer:\n",
        "    def __init__(self, size: int):\n",
        "        self.SIZE = size\n",
        "        self.START = int(\"123456789\"[:size])\n",
        "        self.LIMIT = int(\"123456789\"[-size:])\n",
        "        self.reading = self.START\n",
        "    \n",
        "    def __str__(self):\n",
        "        return str(self.reading)"
      ],
      "metadata": {
        "id": "CD_XzDkjm5Is"
      },
      "execution_count": null,
      "outputs": []
    },
    {
      "cell_type": "code",
      "source": [
        "print(p)"
      ],
      "metadata": {
        "id": "HPypDSnPnsKe"
      },
      "execution_count": null,
      "outputs": []
    },
    {
      "cell_type": "code",
      "source": [
        "o = Odometer(5)\n",
        "print(o)"
      ],
      "metadata": {
        "id": "KEnmX2Oonw16"
      },
      "execution_count": null,
      "outputs": []
    },
    {
      "cell_type": "code",
      "source": [
        "def isascending(n: int) -> bool:\n",
        "    sn = str(n)\n",
        "    return all(x < y for x, y in zip(sn, sn[1:]))\n",
        "\n",
        "class Odometer:\n",
        "    def __init__(self, size: int):\n",
        "        self.SIZE = size\n",
        "        self.START = int(\"123456789\"[:size])\n",
        "        self.LIMIT = int(\"123456789\"[-size:])\n",
        "        self.reading = self.START\n",
        "    \n",
        "    def __str__(self):\n",
        "        return str(self.reading)\n",
        "    \n",
        "    def next(self, steps: int = 1):\n",
        "        for _ in range(steps):\n",
        "            if self.reading == self.LIMIT:\n",
        "                self.reading = self.START\n",
        "            self.reading += 1\n",
        "            while not isascending(self.reading):\n",
        "                self.reading += 1\n",
        "    "
      ],
      "metadata": {
        "id": "Af6Rzx1SoCO2"
      },
      "execution_count": null,
      "outputs": []
    },
    {
      "cell_type": "code",
      "source": [
        "p = Odometer(4)\n",
        "print(p)\n",
        "p.next()\n",
        "print(p)\n",
        "p.next(7)\n",
        "print(p)"
      ],
      "metadata": {
        "id": "seLixd0gpR0n"
      },
      "execution_count": null,
      "outputs": []
    },
    {
      "cell_type": "code",
      "source": [
        "q = Odometer(4)\n",
        "print(q)"
      ],
      "metadata": {
        "id": "C3SeAD9Gpmn3"
      },
      "execution_count": null,
      "outputs": []
    },
    {
      "cell_type": "code",
      "source": [
        "def isascending(n: int) -> bool:\n",
        "    sn = str(n)\n",
        "    return all(x < y for x, y in zip(sn, sn[1:]))\n",
        "\n",
        "class Odometer:\n",
        "    def __init__(self, size: int):\n",
        "        self.SIZE = size\n",
        "        self.START = int(\"123456789\"[:size])\n",
        "        self.LIMIT = int(\"123456789\"[-size:])\n",
        "        self.reading = self.START\n",
        "    \n",
        "    def __str__(self):\n",
        "        return str(self.reading)\n",
        "    \n",
        "    def forward(self, steps: int = 1):\n",
        "        for _ in range(steps):\n",
        "            if self.reading == self.LIMIT:\n",
        "                self.reading = self.START\n",
        "            self.reading += 1\n",
        "            while not isascending(self.reading):\n",
        "                self.reading += 1\n",
        "    \n",
        "    def backward(self, steps: int = 1):\n",
        "        for _ in range(steps):\n",
        "            if self.reading == self.START:\n",
        "                self.reading = self.LIMIT\n",
        "            self.reading -= 1\n",
        "            while not isascending(self.reading):\n",
        "                self.reading -= 1\n",
        "\n",
        "    def distance(self, another) -> int:\n",
        "        if self.SIZE != another.SIZE:\n",
        "            return -1\n",
        "        selfcopy = Odometer(self.SIZE)\n",
        "        selfcopy.reading = self.reading\n",
        "        dist = 0\n",
        "        while selfcopy.reading != another.reading:\n",
        "            selfcopy.forward()\n",
        "            dist += 1\n",
        "        return dist"
      ],
      "metadata": {
        "id": "tc7S9FFfp1et"
      },
      "execution_count": null,
      "outputs": []
    },
    {
      "cell_type": "code",
      "source": [
        "a = Odometer(3)\n",
        "b = Odometer(3)\n",
        "c = Odometer(4)"
      ],
      "metadata": {
        "id": "KA_5M_GvsGuh"
      },
      "execution_count": null,
      "outputs": []
    },
    {
      "cell_type": "code",
      "source": [
        "a.forward(12)\n",
        "b.backward(7)"
      ],
      "metadata": {
        "id": "qQJPsp9OsOCo"
      },
      "execution_count": null,
      "outputs": []
    },
    {
      "cell_type": "code",
      "source": [
        "print(a)\n",
        "print(b)"
      ],
      "metadata": {
        "id": "_j3GOBWksVG_"
      },
      "execution_count": null,
      "outputs": []
    },
    {
      "cell_type": "code",
      "source": [
        "a.distance(b)"
      ],
      "metadata": {
        "id": "mdoVC98xsYUI"
      },
      "execution_count": null,
      "outputs": []
    },
    {
      "cell_type": "code",
      "source": [
        "b.distance(a)"
      ],
      "metadata": {
        "id": "DhfbuSmpsuF1"
      },
      "execution_count": null,
      "outputs": []
    },
    {
      "cell_type": "code",
      "source": [
        "c.distance(a)"
      ],
      "metadata": {
        "id": "ONE00OzbswyO"
      },
      "execution_count": null,
      "outputs": []
    }
  ]
}